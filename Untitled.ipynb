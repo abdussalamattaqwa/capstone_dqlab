{
 "cells": [
  {
   "cell_type": "code",
   "execution_count": 1,
   "id": "d7e1d71e",
   "metadata": {},
   "outputs": [],
   "source": [
    "import pandas as pd\n",
    "import altair as alt"
   ]
  },
  {
   "cell_type": "code",
   "execution_count": 3,
   "id": "28d33eda",
   "metadata": {},
   "outputs": [],
   "source": [
    "df = pd.read_csv('mean-years-of-schooling.csv')"
   ]
  },
  {
   "cell_type": "code",
   "execution_count": null,
   "id": "fa23e424",
   "metadata": {},
   "outputs": [],
   "source": []
  }
 ],
 "metadata": {
  "kernelspec": {
   "display_name": "Python 3 (ipykernel)",
   "language": "python",
   "name": "python3"
  },
  "language_info": {
   "codemirror_mode": {
    "name": "ipython",
    "version": 3
   },
   "file_extension": ".py",
   "mimetype": "text/x-python",
   "name": "python",
   "nbconvert_exporter": "python",
   "pygments_lexer": "ipython3",
   "version": "3.9.12"
  }
 },
 "nbformat": 4,
 "nbformat_minor": 5
}
