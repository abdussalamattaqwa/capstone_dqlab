{
 "cells": [
  {
   "cell_type": "code",
   "execution_count": 1,
   "id": "f890760f",
   "metadata": {},
   "outputs": [],
   "source": [
    "import pandas as pd\n"
   ]
  },
  {
   "cell_type": "code",
   "execution_count": 2,
   "id": "2cea3113",
   "metadata": {},
   "outputs": [],
   "source": [
    "df1 = pd.read_csv(\"data/tableConvert_from_weforum.csv\")\n",
    "#Source: https://govdata360.worldbank.org/indicators/h02d576c2\n",
    "\n",
    "df2 = pd.read_csv(\"data/mean-years-of-schooling-long-run.csv\")\n",
    "# Source:https://ourworldindata.org/grapher/mean-years-of-schooling-long-run\n"
   ]
  },
  {
   "cell_type": "code",
   "execution_count": 3,
   "id": "c49b5471",
   "metadata": {},
   "outputs": [
    {
     "data": {
      "text/html": [
       "<div>\n",
       "<style scoped>\n",
       "    .dataframe tbody tr th:only-of-type {\n",
       "        vertical-align: middle;\n",
       "    }\n",
       "\n",
       "    .dataframe tbody tr th {\n",
       "        vertical-align: top;\n",
       "    }\n",
       "\n",
       "    .dataframe thead th {\n",
       "        text-align: right;\n",
       "    }\n",
       "</style>\n",
       "<table border=\"1\" class=\"dataframe\">\n",
       "  <thead>\n",
       "    <tr style=\"text-align: right;\">\n",
       "      <th></th>\n",
       "      <th>Country</th>\n",
       "      <th>2017</th>\n",
       "      <th>2018</th>\n",
       "      <th>2019</th>\n",
       "    </tr>\n",
       "  </thead>\n",
       "  <tbody>\n",
       "    <tr>\n",
       "      <th>0</th>\n",
       "      <td>Brazil</td>\n",
       "      <td>7.45</td>\n",
       "      <td>7.45</td>\n",
       "      <td>7.58</td>\n",
       "    </tr>\n",
       "    <tr>\n",
       "      <th>1</th>\n",
       "      <td>Albania</td>\n",
       "      <td>10.20</td>\n",
       "      <td>10.20</td>\n",
       "      <td>10.20</td>\n",
       "    </tr>\n",
       "    <tr>\n",
       "      <th>2</th>\n",
       "      <td>Algeria</td>\n",
       "      <td>8.70</td>\n",
       "      <td>8.70</td>\n",
       "      <td>8.70</td>\n",
       "    </tr>\n",
       "    <tr>\n",
       "      <th>3</th>\n",
       "      <td>Angola</td>\n",
       "      <td>5</td>\n",
       "      <td>5</td>\n",
       "      <td>3.99</td>\n",
       "    </tr>\n",
       "    <tr>\n",
       "      <th>4</th>\n",
       "      <td>Argentina</td>\n",
       "      <td>10.10</td>\n",
       "      <td>10.10</td>\n",
       "      <td>11.42</td>\n",
       "    </tr>\n",
       "  </tbody>\n",
       "</table>\n",
       "</div>"
      ],
      "text/plain": [
       "     Country   2017   2018   2019\n",
       "0     Brazil   7.45   7.45   7.58\n",
       "1    Albania  10.20  10.20  10.20\n",
       "2    Algeria   8.70   8.70   8.70\n",
       "3     Angola      5      5   3.99\n",
       "4  Argentina  10.10  10.10  11.42"
      ]
     },
     "execution_count": 3,
     "metadata": {},
     "output_type": "execute_result"
    }
   ],
   "source": [
    "df1.head()"
   ]
  },
  {
   "cell_type": "code",
   "execution_count": 4,
   "id": "035d2e1c",
   "metadata": {},
   "outputs": [],
   "source": [
    "\n",
    "df1.loc[df1['2017'] == 'No data', '2017'] = None\n",
    "df1.loc[df1['2018'] == 'No data', '2018'] = None\n",
    "df1.loc[df1['2019'] == 'No data', '2019'] = None"
   ]
  },
  {
   "cell_type": "code",
   "execution_count": 5,
   "id": "76410cf9",
   "metadata": {},
   "outputs": [
    {
     "data": {
      "text/html": [
       "<div>\n",
       "<style scoped>\n",
       "    .dataframe tbody tr th:only-of-type {\n",
       "        vertical-align: middle;\n",
       "    }\n",
       "\n",
       "    .dataframe tbody tr th {\n",
       "        vertical-align: top;\n",
       "    }\n",
       "\n",
       "    .dataframe thead th {\n",
       "        text-align: right;\n",
       "    }\n",
       "</style>\n",
       "<table border=\"1\" class=\"dataframe\">\n",
       "  <thead>\n",
       "    <tr style=\"text-align: right;\">\n",
       "      <th></th>\n",
       "      <th>Entity</th>\n",
       "      <th>Code</th>\n",
       "      <th>Year</th>\n",
       "      <th>AVG</th>\n",
       "    </tr>\n",
       "  </thead>\n",
       "  <tbody>\n",
       "    <tr>\n",
       "      <th>0</th>\n",
       "      <td>Afghanistan</td>\n",
       "      <td>AFG</td>\n",
       "      <td>1870</td>\n",
       "      <td>0.01</td>\n",
       "    </tr>\n",
       "    <tr>\n",
       "      <th>1</th>\n",
       "      <td>Afghanistan</td>\n",
       "      <td>AFG</td>\n",
       "      <td>1875</td>\n",
       "      <td>0.01</td>\n",
       "    </tr>\n",
       "    <tr>\n",
       "      <th>2</th>\n",
       "      <td>Afghanistan</td>\n",
       "      <td>AFG</td>\n",
       "      <td>1880</td>\n",
       "      <td>0.01</td>\n",
       "    </tr>\n",
       "    <tr>\n",
       "      <th>3</th>\n",
       "      <td>Afghanistan</td>\n",
       "      <td>AFG</td>\n",
       "      <td>1885</td>\n",
       "      <td>0.01</td>\n",
       "    </tr>\n",
       "    <tr>\n",
       "      <th>4</th>\n",
       "      <td>Afghanistan</td>\n",
       "      <td>AFG</td>\n",
       "      <td>1890</td>\n",
       "      <td>0.01</td>\n",
       "    </tr>\n",
       "  </tbody>\n",
       "</table>\n",
       "</div>"
      ],
      "text/plain": [
       "        Entity Code  Year   AVG\n",
       "0  Afghanistan  AFG  1870  0.01\n",
       "1  Afghanistan  AFG  1875  0.01\n",
       "2  Afghanistan  AFG  1880  0.01\n",
       "3  Afghanistan  AFG  1885  0.01\n",
       "4  Afghanistan  AFG  1890  0.01"
      ]
     },
     "execution_count": 5,
     "metadata": {},
     "output_type": "execute_result"
    }
   ],
   "source": [
    "df2.rename(columns={'Average Total Years of Schooling for Adult Population (Lee-Lee (2016), Barro-Lee (2018) and UNDP (2018))': 'AVG'}, inplace=True)\n",
    "df2.head()"
   ]
  },
  {
   "cell_type": "code",
   "execution_count": 6,
   "id": "88af028c",
   "metadata": {},
   "outputs": [
    {
     "data": {
      "text/plain": [
       "Entity    7763\n",
       "Code      7763\n",
       "Year      7763\n",
       "AVG       7763\n",
       "dtype: int64"
      ]
     },
     "execution_count": 6,
     "metadata": {},
     "output_type": "execute_result"
    }
   ],
   "source": [
    "df2.count()"
   ]
  },
  {
   "cell_type": "code",
   "execution_count": 7,
   "id": "c5fff780",
   "metadata": {},
   "outputs": [
    {
     "name": "stdout",
     "output_type": "stream",
     "text": [
      "Brunei Darussalam\n",
      "Cabo Verde\n",
      "Czech Republic\n",
      "Egypt, Arab Rep.\n",
      "Gambia, The\n",
      "Iran, Islamic Rep.\n",
      "Korea, Rep.\n",
      "Kyrgyz Republic\n",
      "Lao PDR\n",
      "Macedonia, FYR\n",
      "Russian Federation\n",
      "Slovak Republic\n",
      "Taiwan, China\n",
      "Turkiye\n",
      "Venezuela, RB\n",
      "Yemen, Rep.\n"
     ]
    }
   ],
   "source": [
    "# Nama nama negara yang tidak sesuai dengan kedua tabel\n",
    "for index, row in df1.iterrows():\n",
    "    if df2[df2['Entity'] == row['Country']].empty:\n",
    "        print(row['Country'])"
   ]
  },
  {
   "cell_type": "code",
   "execution_count": 8,
   "id": "532a89dd",
   "metadata": {},
   "outputs": [],
   "source": [
    "df1.loc[df1['Country'] == 'Brunei Darussalam', 'Country'] = 'Brunei'\n",
    "df1.loc[df1['Country'] == 'Cabo Verde', 'Country'] = 'Cape Verde'\n",
    "df1.loc[df1['Country'] == 'Czech Republic', 'Country'] = 'Czechia'\n",
    "df1.loc[df1['Country'] == 'Egypt, Arab Rep.', 'Country'] = 'Egypt'\n",
    "df1.loc[df1['Country'] == 'Gambia, The', 'Country'] = 'Gambia'\n",
    "df1.loc[df1['Country'] == 'Iran, Islamic Rep.', 'Country'] = 'Iran'\n",
    "df1.loc[df1['Country'] == 'Korea, Rep.', 'Country'] = 'South Korea'\n",
    "df1.loc[df1['Country'] == 'Kyrgyz Republic', 'Country'] = 'Kyrgyzstan'\n",
    "df1.loc[df1['Country'] == 'Lao PDR', 'Country'] = 'Laos'\n",
    "df1.loc[df1['Country'] == 'Macedonia, FYR', 'Country'] = 'North Macedonia'\n",
    "df1.loc[df1['Country'] == 'Russian Federation', 'Country'] = 'Russia'\n",
    "df1.loc[df1['Country'] == 'Slovak Republic', 'Country'] = 'Slovakia'\n",
    "df1.loc[df1['Country'] == 'Taiwan, China', 'Country'] = 'Taiwan'\n",
    "df1.loc[df1['Country'] == 'Turkiye', 'Country'] = 'Turkey'\n",
    "df1.loc[df1['Country'] == 'Venezuela, RB', 'Country'] = 'Venezuela'\n",
    "df1.loc[df1['Country'] == 'Yemen, Rep.', 'Country'] = 'Yemen'"
   ]
  },
  {
   "cell_type": "code",
   "execution_count": 9,
   "id": "a9806945",
   "metadata": {},
   "outputs": [
    {
     "name": "stdout",
     "output_type": "stream",
     "text": [
      "Afghanistan\n",
      "Andorra\n",
      "Antigua and Barbuda\n",
      "Bahamas\n",
      "Belarus\n",
      "Belize\n",
      "Bhutan\n",
      "Central African Republic\n",
      "Comoros\n",
      "Congo\n",
      "Cote d'Ivoire\n",
      "Cuba\n",
      "Democratic Republic of Congo\n",
      "Djibouti\n",
      "Dominica\n",
      "Equatorial Guinea\n",
      "Eritrea\n",
      "Eswatini\n",
      "Fiji\n",
      "Grenada\n",
      "Guinea-Bissau\n",
      "Guyana\n",
      "Hong Kong\n",
      "Iraq\n",
      "Kiribati\n",
      "Libya\n",
      "Liechtenstein\n",
      "Macao\n",
      "Maldives\n",
      "Marshall Islands\n",
      "Micronesia (country)\n",
      "Myanmar\n",
      "Niger\n",
      "Palau\n",
      "Palestine\n",
      "Papua New Guinea\n",
      "Reunion\n",
      "Saint Kitts and Nevis\n",
      "Saint Lucia\n",
      "Saint Vincent and the Grenadines\n",
      "Samoa\n",
      "Sao Tome and Principe\n",
      "Solomon Islands\n",
      "Somalia\n",
      "South Sudan\n",
      "Sudan\n",
      "Suriname\n",
      "Syria\n",
      "Timor\n",
      "Togo\n",
      "Tonga\n",
      "Turkmenistan\n",
      "Uzbekistan\n",
      "Vanuatu\n"
     ]
    }
   ],
   "source": [
    "# Nama nama negara yang tidak terdapat datanya/tidak ada data tahun 2018 dan 2019 pada tabel 2\n",
    "country = ''\n",
    "for index, row in df2.iterrows():\n",
    "    if df1[df1['Country'] == row['Entity']].empty:\n",
    "        if (country != row['Entity']):\n",
    "            print(row['Entity'])\n",
    "            country = row['Entity']"
   ]
  },
  {
   "cell_type": "code",
   "execution_count": 12,
   "id": "f1c97eaf",
   "metadata": {},
   "outputs": [],
   "source": [
    "# Memasukkan data dari tabel 2 ke tabel 1\n",
    "final_csv = df2.copy()\n",
    "for index, row in df1.iterrows():\n",
    "    code_country = final_csv[final_csv['Entity'] == row['Country']].iloc[1,1]\n",
    "    data_line = {\"Entity\": [row['Country'], row['Country']], \n",
    "                 \"Code\": [code_country, code_country],\n",
    "                 'Year':[2018, 2019], \n",
    "                 'AVG': [row['2018'],row['2019']]\n",
    "                }\n",
    "    line = pd.DataFrame(data_line)\n",
    "    final_csv = pd.concat([final_csv, line]).reset_index(drop=True)\n"
   ]
  },
  {
   "cell_type": "code",
   "execution_count": 13,
   "id": "da554fe9",
   "metadata": {},
   "outputs": [],
   "source": [
    "final_csv = final_csv.sort_values(by=[\"Entity\", \"Year\"], ignore_index=True)\n",
    "\n",
    "final_csv.to_csv('mean-years-of-schooling.csv',index=False)"
   ]
  },
  {
   "cell_type": "code",
   "execution_count": null,
   "id": "c6aa7320",
   "metadata": {},
   "outputs": [],
   "source": []
  }
 ],
 "metadata": {
  "kernelspec": {
   "display_name": "Python 3 (ipykernel)",
   "language": "python",
   "name": "python3"
  },
  "language_info": {
   "codemirror_mode": {
    "name": "ipython",
    "version": 3
   },
   "file_extension": ".py",
   "mimetype": "text/x-python",
   "name": "python",
   "nbconvert_exporter": "python",
   "pygments_lexer": "ipython3",
   "version": "3.9.12"
  }
 },
 "nbformat": 4,
 "nbformat_minor": 5
}
